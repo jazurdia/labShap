{
 "cells": [
  {
   "cell_type": "code",
   "id": "initial_id",
   "metadata": {
    "collapsed": true
   },
   "source": [
    "# ========= 1) Setup =========\n",
    "# Install required libraries if needed\n",
    "# !pip install medmnist torch torchvision shap matplotlib\n",
    "\n",
    "import torch\n",
    "import torchvision.transforms as transforms\n",
    "import matplotlib.pyplot as plt\n",
    "import shap\n",
    "import numpy as np\n",
    "import random\n",
    "import os\n",
    "\n",
    "import medmnist\n",
    "from medmnist import INFO"
   ],
   "outputs": [],
   "execution_count": null
  },
  {
   "metadata": {},
   "cell_type": "code",
   "source": [
    "# ========= 2) Dataset Info =========\n",
    "data_flag = 'pathmnist'\n",
    "download = True\n",
    "\n",
    "info = INFO[data_flag]\n",
    "n_classes = len(info['label'])\n",
    "id2label = {int(k): v for k, v in info['label'].items()}\n",
    "\n",
    "print(f\"Dataset: {info['description']}\")\n",
    "print(f\"Task: {info['task']}, Classes: {n_classes}\")\n",
    "print(\"Classes:\", id2label)"
   ],
   "id": "83e1965412fe82a3",
   "outputs": [],
   "execution_count": null
  },
  {
   "metadata": {},
   "cell_type": "code",
   "source": [
    "# ========= 3) Load dataset =========\n",
    "DataClass = getattr(medmnist, info['python_class'])\n",
    "\n",
    "transform = transforms.Compose([\n",
    "    transforms.ToTensor(),\n",
    "    transforms.Normalize(mean=[.5], std=[.5])\n",
    "])\n",
    "\n",
    "train_dataset = DataClass(split='train', transform=transform, download=download)\n",
    "test_dataset  = DataClass(split='test', transform=transform, download=download)\n",
    "\n",
    "print(\"Train size:\", len(train_dataset), \" Test size:\", len(test_dataset))\n",
    "\n",
    "# Show 5 sample images\n",
    "fig, axs = plt.subplots(1, 5, figsize=(10, 2))\n",
    "for i in range(5):\n",
    "    img, label = train_dataset[i]\n",
    "    img = img.numpy()\n",
    "    axs[i].imshow(np.transpose(img, (1, 2, 0)).squeeze(), cmap=\"gray\")\n",
    "    axs[i].set_title(f\"{id2label[int(label)]}\")  # ✅ cast label to int\n",
    "    axs[i].axis(\"off\")\n",
    "plt.show()"
   ],
   "id": "7b5d33628073a26e",
   "outputs": [],
   "execution_count": null
  },
  {
   "metadata": {},
   "cell_type": "code",
   "source": [
    "# ========= 4) Define Simple CNN Model (already provided) =========\n",
    "import torch.nn as nn\n",
    "import torch.nn.functional as F\n",
    "\n",
    "class SimpleCNN(nn.Module):\n",
    "    def __init__(self, n_channels, n_classes):\n",
    "        super(SimpleCNN, self).__init__()\n",
    "        self.conv1 = nn.Conv2d(n_channels, 16, kernel_size=3, padding=1)\n",
    "        self.pool = nn.MaxPool2d(2, 2)\n",
    "        self.fc1 = nn.Linear(16*14*14, n_classes)\n",
    "\n",
    "    def forward(self, x):\n",
    "        x = self.pool(F.relu(self.conv1(x)))\n",
    "        x = x.reshape(x.size(0), -1)\n",
    "        x = self.fc1(x)\n",
    "        return x\n",
    "\n",
    "model = SimpleCNN(info['n_channels'], n_classes)\n",
    "device = torch.device(\"cuda\" if torch.cuda.is_available() else \"cpu\")\n",
    "model.to(device)\n",
    "\n",
    "print(\"Model class defined and ready.\")"
   ],
   "id": "bcdca4bb7e963e56",
   "outputs": [],
   "execution_count": null
  },
  {
   "metadata": {},
   "cell_type": "code",
   "source": [
    "# ========= 5) Load Pretrained Model =========\n",
    "MODEL_PATH = \"pathmnist_simplecnn.pth\"\n",
    "\n",
    "model.load_state_dict(torch.load(MODEL_PATH, map_location=device))\n",
    "model.eval()\n",
    "\n",
    "print(\"Pretrained model loaded successfully!\")"
   ],
   "id": "2719121bf5fd15d7",
   "outputs": [],
   "execution_count": null
  },
  {
   "metadata": {},
   "cell_type": "code",
   "source": [
    "# ========= 6) Predictions + SHAP Explanations =========\n",
    "# In this cell, you will:\n",
    "#   1. Write a helper function so SHAP can call the model\n",
    "#   2. Pick one test image and predict its class\n",
    "#   3. Compare prediction vs. true label\n",
    "#   4. Use SHAP to explain WHY the model made that prediction\n",
    "#   5. Visualize the results\n",
    "\n",
    "# --- Step 1: Helper function for SHAP ---\n",
    "# TODO: Implement model_forward(x)\n",
    "# HINT: x will come as a numpy array with shape (N, H, W, C).\n",
    "#       Convert it to a torch tensor (N, C, H, W), run through the model,\n",
    "#       return probabilities as numpy.\n",
    "def model_forward(x):\n",
    "    # TODO: write this function\n",
    "    pass\n",
    "\n",
    "\n",
    "# --- Step 2: Pick one test image ---\n",
    "# TODO: Select an image from test_dataset\n",
    "# HINT: take sample_img, sample_label = test_dataset[0] (or a random index)\n",
    "# TODO: Predict class probabilities using the model\n",
    "# TODO: Print predicted class (with probability) and true label\n",
    "# (use id2label to show class names)\n",
    "\n",
    "\n",
    "# --- Step 3: Prepare image for SHAP ---\n",
    "# TODO: Convert the image into numpy format (H, W, C)\n",
    "# HINT: remember test_dataset gives (C, H, W), so you might need np.transpose\n",
    "\n",
    "\n",
    "# --- Step 4: Create SHAP explainer ---\n",
    "# TODO: Create a masker for images\n",
    "# HINT: shap.maskers.Image(\"blur(28,28)\", img_np.shape)\n",
    "# TODO: Create an Explainer with (model_forward, masker)\n",
    "# TODO: Run explainer on your selected image\n",
    "\n",
    "\n",
    "# --- Step 5: Visualize ---\n",
    "# TODO: Plot the original image and the SHAP heatmap side by side\n",
    "# HINT: use matplotlib subplots"
   ],
   "id": "797a7e1b04643317",
   "outputs": [],
   "execution_count": null
  },
  {
   "metadata": {},
   "cell_type": "code",
   "source": [
    "# ========= 7) Extension: Multiple Images =========\n",
    "# TODO: Loop over 5 random test images\n",
    "# For each:\n",
    "#   - Show original image with true label\n",
    "#   - Predict with the model and show predicted label + probability\n",
    "#   - Plot SHAP heatmap for predicted class\n",
    "# HINT: Use matplotlib with 2 rows and 5 columns"
   ],
   "id": "b12c639e2c494b8f",
   "outputs": [],
   "execution_count": null
  },
  {
   "metadata": {},
   "cell_type": "code",
   "source": [
    "# ========= 8) Reflection =========\n",
    "# Answer in text (Markdown or comments):\n",
    "# 1. Why did the model predict this class?\n",
    "# 2. Are the SHAP heatmaps focusing on meaningful regions?\n",
    "# 3. What differences do you see between correct and incorrect predictions?\n",
    "# 4. How could interpretability help improve this model?"
   ],
   "id": "1e3dff50fe712537",
   "outputs": [],
   "execution_count": null
  },
  {
   "metadata": {},
   "cell_type": "code",
   "source": "",
   "id": "a49b33cbfc8c9bcb",
   "outputs": [],
   "execution_count": null
  }
 ],
 "metadata": {
  "kernelspec": {
   "display_name": "Python 3",
   "language": "python",
   "name": "python3"
  },
  "language_info": {
   "codemirror_mode": {
    "name": "ipython",
    "version": 2
   },
   "file_extension": ".py",
   "mimetype": "text/x-python",
   "name": "python",
   "nbconvert_exporter": "python",
   "pygments_lexer": "ipython2",
   "version": "2.7.6"
  }
 },
 "nbformat": 4,
 "nbformat_minor": 5
}
